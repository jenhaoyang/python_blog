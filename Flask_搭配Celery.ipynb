{
  "nbformat": 4,
  "nbformat_minor": 0,
  "metadata": {
    "colab": {
      "name": "Flask 搭配Celery",
      "provenance": [],
      "authorship_tag": "ABX9TyOgFmlgipg6S5/g/I/n0Cb8",
      "include_colab_link": true
    },
    "kernelspec": {
      "name": "python3",
      "display_name": "Python 3"
    }
  },
  "cells": [
    {
      "cell_type": "markdown",
      "metadata": {
        "id": "view-in-github",
        "colab_type": "text"
      },
      "source": [
        "<a href=\"https://colab.research.google.com/github/jenhaoyang/python_blog/blob/main/Flask_%E6%90%AD%E9%85%8DCelery.ipynb\" target=\"_parent\"><img src=\"https://colab.research.google.com/assets/colab-badge.svg\" alt=\"Open In Colab\"/></a>"
      ]
    },
    {
      "cell_type": "code",
      "metadata": {
        "id": "KTHC7jB4KF2T"
      },
      "source": [
        ""
      ],
      "execution_count": null,
      "outputs": []
    },
    {
      "cell_type": "markdown",
      "metadata": {
        "id": "qkr-K2qBYkTc"
      },
      "source": [
        "參考  \n",
        "https://blog.miguelgrinberg.com/post/using-celery-with-flask\n",
        "\n",
        "https://docs.celeryproject.org/en/v5.0.1/getting-started/next-steps.html"
      ]
    },
    {
      "cell_type": "markdown",
      "metadata": {
        "id": "PPboHTn0ZMuv"
      },
      "source": [
        "參考"
      ]
    }
  ]
}