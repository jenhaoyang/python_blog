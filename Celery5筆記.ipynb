{
  "nbformat": 4,
  "nbformat_minor": 0,
  "metadata": {
    "colab": {
      "name": "Celery5筆記.ipynb",
      "provenance": [],
      "authorship_tag": "ABX9TyM+JN2iyDW92ZIUmeIJWhWC",
      "include_colab_link": true
    },
    "kernelspec": {
      "name": "python3",
      "display_name": "Python 3"
    }
  },
  "cells": [
    {
      "cell_type": "markdown",
      "metadata": {
        "id": "view-in-github",
        "colab_type": "text"
      },
      "source": [
        "<a href=\"https://colab.research.google.com/github/jenhaoyang/python_blog/blob/main/Celery5%E7%AD%86%E8%A8%98.ipynb\" target=\"_parent\"><img src=\"https://colab.research.google.com/assets/colab-badge.svg\" alt=\"Open In Colab\"/></a>"
      ]
    },
    {
      "cell_type": "markdown",
      "metadata": {
        "id": "iiar_D8nAcnf"
      },
      "source": [
        "primitives:  \n",
        "* group\n",
        "* chain\n",
        "* chord\n",
        "* map\n",
        "* startmap\n",
        "* chunks\n"
      ]
    }
  ]
}